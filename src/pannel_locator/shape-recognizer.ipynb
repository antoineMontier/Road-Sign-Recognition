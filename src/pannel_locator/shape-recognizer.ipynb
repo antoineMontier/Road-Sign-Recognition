{
 "cells": [
  {
   "cell_type": "code",
   "execution_count": 1,
   "metadata": {},
   "outputs": [
    {
     "name": "stderr",
     "output_type": "stream",
     "text": [
      "2023-10-18 19:19:20.653374: I tensorflow/tsl/cuda/cudart_stub.cc:28] Could not find cuda drivers on your machine, GPU will not be used.\n",
      "2023-10-18 19:19:20.916842: E tensorflow/compiler/xla/stream_executor/cuda/cuda_dnn.cc:9342] Unable to register cuDNN factory: Attempting to register factory for plugin cuDNN when one has already been registered\n",
      "2023-10-18 19:19:20.916896: E tensorflow/compiler/xla/stream_executor/cuda/cuda_fft.cc:609] Unable to register cuFFT factory: Attempting to register factory for plugin cuFFT when one has already been registered\n",
      "2023-10-18 19:19:20.918615: E tensorflow/compiler/xla/stream_executor/cuda/cuda_blas.cc:1518] Unable to register cuBLAS factory: Attempting to register factory for plugin cuBLAS when one has already been registered\n",
      "2023-10-18 19:19:21.056807: I tensorflow/tsl/cuda/cudart_stub.cc:28] Could not find cuda drivers on your machine, GPU will not be used.\n",
      "2023-10-18 19:19:21.058650: I tensorflow/core/platform/cpu_feature_guard.cc:182] This TensorFlow binary is optimized to use available CPU instructions in performance-critical operations.\n",
      "To enable the following instructions: AVX2 FMA, in other operations, rebuild TensorFlow with the appropriate compiler flags.\n",
      "2023-10-18 19:19:22.509138: W tensorflow/compiler/tf2tensorrt/utils/py_utils.cc:38] TF-TRT Warning: Could not find TensorRT\n"
     ]
    }
   ],
   "source": [
    "import os\n",
    "import numpy as np\n",
    "import cv2\n",
    "import matplotlib\n",
    "from matplotlib import image\n",
    "from sklearn.model_selection import train_test_split\n",
    "from keras.utils import to_categorical\n",
    "from tensorflow.keras.models import Sequential\n",
    "from tensorflow.keras.layers import Dense, Conv2D, Conv1D, MaxPooling2D, Dropout, Flatten\n",
    "from tensorflow.keras import models\n",
    "from tensorflow.keras import utils"
   ]
  },
  {
   "cell_type": "code",
   "execution_count": 2,
   "metadata": {},
   "outputs": [],
   "source": [
    "# circle, kite, parallelogram, rectangle, rhombus, square, trapezoid, triangle\n",
    "labels = ['circle', 'kite', 'parallelogram', 'rectangle', 'rhombus', 'square', 'trapezoid', 'triangle']\n",
    "image_shape = (224, 224, 1)"
   ]
  },
  {
   "cell_type": "code",
   "execution_count": 3,
   "metadata": {},
   "outputs": [],
   "source": [
    "def make_labels(directory, data=[], y_hat=[], label=0):\n",
    "    for root, dirs, files in os.walk(directory):\n",
    "        for file in files:\n",
    "            img = np.reshape(cv2.cvtColor(matplotlib.image.imread(directory+file), cv2.COLOR_RGB2GRAY),image_shape)\n",
    "            data.append(img)\n",
    "        y_hat = [label] * len(data)\n",
    "    return np.array(data), np.array(y_hat)"
   ]
  },
  {
   "cell_type": "code",
   "execution_count": 4,
   "metadata": {},
   "outputs": [
    {
     "name": "stdout",
     "output_type": "stream",
     "text": [
      "circle loaded\n",
      "kite loaded\n",
      "parallelogram loaded\n",
      "rectangle loaded\n",
      "rhombus loaded\n",
      "square loaded\n",
      "trapezoid loaded\n",
      "triangle loaded\n"
     ]
    }
   ],
   "source": [
    "circle, y_circle = [], []\n",
    "circle, y_circle = make_labels('./../../shape-train/circle/', data=circle, y_hat=y_circle, label=labels.index('circle'))\n",
    "print(\"circle loaded\")\n",
    "\n",
    "kite, y_kite = [], []\n",
    "kite, y_kite = make_labels('./../../shape-train/kite/', data=kite, y_hat=y_kite, label=labels.index('kite'))\n",
    "print(\"kite loaded\")\n",
    "\n",
    "parallelogram, y_parallelogram = [], []\n",
    "parallelogram, y_parallelogram = make_labels('./../../shape-train/parallelogram/', data=parallelogram, y_hat=y_parallelogram, label=labels.index('parallelogram'))\n",
    "print(\"parallelogram loaded\")\n",
    "\n",
    "rectangle, y_rectangle = [], []\n",
    "rectangle, y_rectangle = make_labels('./../../shape-train/rectangle/', data=rectangle, y_hat=y_rectangle, label=labels.index('rectangle'))\n",
    "print(\"rectangle loaded\")\n",
    "\n",
    "rhombus, y_rhombus = [], []\n",
    "rhombus, y_rhombus = make_labels('./../../shape-train/rhombus/', data=rhombus, y_hat=y_rhombus, label=labels.index('rhombus'))\n",
    "print(\"rhombus loaded\")\n",
    "\n",
    "square, y_square = [], []\n",
    "square, y_square = make_labels('./../../shape-train/square/', data=square, y_hat=y_square, label=labels.index('square'))\n",
    "print(\"square loaded\")\n",
    "\n",
    "trapezoid, y_trapezoid = [], []\n",
    "trapezoid, y_trapezoid = make_labels('./../../shape-train/trapezoid/', data=trapezoid, y_hat=y_trapezoid, label=labels.index('trapezoid'))\n",
    "print(\"trapezoid loaded\")\n",
    "\n",
    "triangle, y_triangle = [], []\n",
    "triangle, y_triangle = make_labels('./../../shape-train/triangle/', data=triangle, y_hat=y_triangle, label=labels.index('triangle'))\n",
    "print(\"triangle loaded\")"
   ]
  },
  {
   "cell_type": "code",
   "execution_count": 5,
   "metadata": {},
   "outputs": [],
   "source": [
    "X, y = np.vstack((circle, kite, parallelogram, rectangle, rhombus, square, trapezoid, triangle)), np.hstack((y_circle, y_kite, y_parallelogram, y_rectangle, y_rhombus, y_square, y_trapezoid, y_triangle)).reshape(-1, 1)"
   ]
  },
  {
   "cell_type": "code",
   "execution_count": 6,
   "metadata": {},
   "outputs": [
    {
     "name": "stdout",
     "output_type": "stream",
     "text": [
      "Model: \"sequential\"\n",
      "_________________________________________________________________\n",
      " Layer (type)                Output Shape              Param #   \n",
      "=================================================================\n",
      " conv2d (Conv2D)             (None, 224, 224, 48)      480       \n",
      "                                                                 \n",
      " max_pooling2d (MaxPooling2  (None, 74, 74, 48)        0         \n",
      " D)                                                              \n",
      "                                                                 \n",
      " dropout (Dropout)           (None, 74, 74, 48)        0         \n",
      "                                                                 \n",
      " flatten (Flatten)           (None, 262848)            0         \n",
      "                                                                 \n",
      " dense (Dense)               (None, 32)                8411168   \n",
      "                                                                 \n",
      " dropout_1 (Dropout)         (None, 32)                0         \n",
      "                                                                 \n",
      " dense_1 (Dense)             (None, 16)                528       \n",
      "                                                                 \n",
      " dropout_2 (Dropout)         (None, 16)                0         \n",
      "                                                                 \n",
      " dense_3 (Dense)             (None, 3)                 51        \n",
      "                                                                 \n",
      "=================================================================\n",
      "Total params: 8412227 (32.09 MB)\n",
      "Trainable params: 8412227 (32.09 MB)\n",
      "Non-trainable params: 0 (0.00 Byte)\n",
      "_________________________________________________________________\n"
     ]
    }
   ],
   "source": [
    "classifier = Sequential()\n",
    "# Convolution layer, with 32 random 3x3 kernels\n",
    "c1 = Conv2D(48, (3,3), padding='same', input_shape = image_shape, activation = 'relu')\n",
    "classifier.add(c1)\n",
    "classifier.add(MaxPooling2D(pool_size=(3, 3)))\n",
    "classifier.add(Dropout(0.5))\n",
    "classifier.add(Flatten()) \n",
    "w1 = Dense(units = 32, activation = 'relu')\n",
    "w2 = Dense(units = 16, activation = 'relu')\n",
    "w3 = Dense(units = 4, activation = 'relu')\n",
    "w_end = Dense(units = 3, activation = 'softmax')\n",
    "classifier.add(w1)\n",
    "classifier.add(Dropout(0.5)) \n",
    "classifier.add(w2)\n",
    "classifier.add(Dropout(0.5)) \n",
    "classifier.add(w_end)\n",
    "classifier.summary()"
   ]
  },
  {
   "cell_type": "code",
   "execution_count": 7,
   "metadata": {},
   "outputs": [],
   "source": [
    "classifier.compile( optimizer = 'rmsprop',\n",
    "                    loss = 'categorical_crossentropy', \n",
    "                    metrics = ['accuracy'])"
   ]
  },
  {
   "cell_type": "code",
   "execution_count": 8,
   "metadata": {},
   "outputs": [
    {
     "name": "stdout",
     "output_type": "stream",
     "text": [
      "(16000, 224, 224, 1)\n",
      "(16000, 8)\n"
     ]
    }
   ],
   "source": [
    "y_cat = to_categorical(y)\n",
    "X_train, X_test, y_train, y_test = train_test_split(X, y_cat, test_size=.2, random_state=42)\n",
    "\n",
    "print(X_train.shape)\n",
    "print(y_train.shape)"
   ]
  },
  {
   "cell_type": "code",
   "execution_count": 9,
   "metadata": {},
   "outputs": [
    {
     "ename": "",
     "evalue": "",
     "output_type": "error",
     "traceback": [
      "\u001b[1;31mThe Kernel crashed while executing code in the the current cell or a previous cell. Please review the code in the cell(s) to identify a possible cause of the failure. Click <a href='https://aka.ms/vscodeJupyterKernelCrash'>here</a> for more info. View Jupyter <a href='command:jupyter.viewOutput'>log</a> for further details."
     ]
    }
   ],
   "source": [
    "history = classifier.fit(X_train, y_train, batch_size=40, epochs=10, verbose=1, validation_data=(X_test, y_test))"
   ]
  }
 ],
 "metadata": {
  "kernelspec": {
   "display_name": "Python 3",
   "language": "python",
   "name": "python3"
  },
  "language_info": {
   "codemirror_mode": {
    "name": "ipython",
    "version": 3
   },
   "file_extension": ".py",
   "mimetype": "text/x-python",
   "name": "python",
   "nbconvert_exporter": "python",
   "pygments_lexer": "ipython3",
   "version": "3.10.12"
  }
 },
 "nbformat": 4,
 "nbformat_minor": 2
}
