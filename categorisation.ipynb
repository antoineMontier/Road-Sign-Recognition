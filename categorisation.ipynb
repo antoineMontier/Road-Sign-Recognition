{
 "cells": [
  {
   "cell_type": "markdown",
   "metadata": {},
   "source": [
    "**This Notebook aims to categorize (A-F cat.) the pannel based on its features using a convolutionnal neural network**<br>\n",
    "The model can then be used conviniently without having to re-fit it"
   ]
  },
  {
   "cell_type": "code",
   "execution_count": 11,
   "metadata": {},
   "outputs": [],
   "source": [
    "from skimage import measure\n",
    "import numpy as np\n",
    "import matplotlib.pyplot as plt\n",
    "import matplotlib.image as mpimg\n",
    "import matplotlib\n",
    "from mpl_toolkits.mplot3d import Axes3D\n",
    "import sklearn\n",
    "from keras.utils import to_categorical\n",
    "import os\n",
    "import sklearn.cluster\n",
    "from sklearn.model_selection import train_test_split\n",
    "import itertools\n",
    "import statistics\n",
    "import cv2\n",
    "from keras.models import Sequential\n",
    "from keras.layers import Conv2D, MaxPooling2D, Flatten, Dense\n",
    "import scipy\n",
    "from scipy import signal"
   ]
  },
  {
   "cell_type": "code",
   "execution_count": 2,
   "metadata": {},
   "outputs": [],
   "source": [
    "def make_labels(directory, data=[], y_hat=[], label=0):\n",
    "    for root, dirs, files in os.walk(directory):\n",
    "        for file in files:\n",
    "            img = matplotlib.image.imread(directory+file)\n",
    "            img = cv2.cvtColor(img, cv2.COLOR_RGB2GRAY)\n",
    "            img = np.reshape(img, (224, 224, 1))\n",
    "            img = cv2.cvtColor(img, cv2.COLOR_GRAY2RGB)  # Convert to RGB\n",
    "            img = cv2.resize(img, (224, 224))\n",
    "\n",
    "            data.append(img)\n",
    "        y_hat = [label] * len(data)\n",
    "    return np.array(data), np.array(y_hat)"
   ]
  },
  {
   "cell_type": "code",
   "execution_count": 3,
   "metadata": {},
   "outputs": [
    {
     "name": "stdout",
     "output_type": "stream",
     "text": [
      "a loaded\n",
      "b loaded\n",
      "c loaded\n",
      "d loaded\n",
      "e loaded\n",
      "f loaded\n"
     ]
    }
   ],
   "source": [
    "parent_folder = 'Training/augmentation1/'\n",
    "\n",
    "a, y_a = [], []\n",
    "a, y_a = make_labels(parent_folder + '/A/', data=a, y_hat=y_a, label=0)\n",
    "print(\"a loaded\")\n",
    "\n",
    "b, y_b = [], []\n",
    "b, y_b = make_labels(parent_folder + '/B/', data=b, y_hat=y_b, label=1)\n",
    "print(\"b loaded\")\n",
    "\n",
    "c, y_c = [], []\n",
    "c, y_c = make_labels(parent_folder + '/C/', data=c, y_hat=y_c, label=2)\n",
    "print(\"c loaded\")\n",
    "\n",
    "d, y_d = [], []\n",
    "d, y_d = make_labels(parent_folder + '/D/', data=d, y_hat=y_d, label=3)\n",
    "print(\"d loaded\")\n",
    "\n",
    "e, y_e = [], []\n",
    "e, y_e = make_labels(parent_folder + '/E/', data=e, y_hat=y_e, label=4)\n",
    "print(\"e loaded\")\n",
    "\n",
    "f, y_f = [], []\n",
    "f, y_f = make_labels(parent_folder + '/F/', data=f, y_hat=y_f, label=5)\n",
    "print(\"f loaded\")"
   ]
  },
  {
   "cell_type": "code",
   "execution_count": 4,
   "metadata": {},
   "outputs": [
    {
     "name": "stdout",
     "output_type": "stream",
     "text": [
      "a: (192, 224, 224, 3)\n",
      "b: (192, 224, 224, 3)\n",
      "c: (192, 224, 224, 3)\n",
      "d: (192, 224, 224, 3)\n",
      "e: (192, 224, 224, 3)\n",
      "f: (192, 224, 224, 3)\n"
     ]
    }
   ],
   "source": [
    "print('a:', a.shape)\n",
    "print('b:', b.shape)\n",
    "print('c:', c.shape)\n",
    "print('d:', d.shape)\n",
    "print('e:', e.shape)\n",
    "print('f:', f.shape)"
   ]
  },
  {
   "cell_type": "markdown",
   "metadata": {},
   "source": [
    "**Data normalization**"
   ]
  },
  {
   "cell_type": "code",
   "execution_count": 5,
   "metadata": {},
   "outputs": [],
   "source": [
    "X = np.vstack((a, b, c, d, e, f))\n",
    "a = b = c = d = e = f = None\n",
    "y = np.hstack((y_a, y_b, y_c, y_d, y_e, y_f)).reshape(-1, 1)\n",
    "y_cat = to_categorical(y)"
   ]
  },
  {
   "cell_type": "code",
   "execution_count": 12,
   "metadata": {},
   "outputs": [
    {
     "name": "stdout",
     "output_type": "stream",
     "text": [
      "(1152, 224, 224, 3)\n",
      "(1152, 6)\n"
     ]
    }
   ],
   "source": [
    "print(X.shape)\n",
    "print(y_cat.shape)"
   ]
  },
  {
   "cell_type": "markdown",
   "metadata": {},
   "source": [
    "**Create & compile the model**"
   ]
  },
  {
   "cell_type": "code",
   "execution_count": 9,
   "metadata": {},
   "outputs": [
    {
     "name": "stderr",
     "output_type": "stream",
     "text": [
      "2023-12-14 18:07:00.768346: W tensorflow/tsl/framework/cpu_allocator_impl.cc:83] Allocation of 95551488 exceeds 10% of free system memory.\n",
      "2023-12-14 18:07:00.838344: W tensorflow/tsl/framework/cpu_allocator_impl.cc:83] Allocation of 95551488 exceeds 10% of free system memory.\n",
      "2023-12-14 18:07:00.897076: W tensorflow/tsl/framework/cpu_allocator_impl.cc:83] Allocation of 95551488 exceeds 10% of free system memory.\n"
     ]
    },
    {
     "name": "stdout",
     "output_type": "stream",
     "text": [
      "Model: \"sequential\"\n",
      "_________________________________________________________________\n",
      " Layer (type)                Output Shape              Param #   \n",
      "=================================================================\n",
      " conv2d (Conv2D)             (None, 222, 222, 32)      896       \n",
      "                                                                 \n",
      " max_pooling2d (MaxPooling2  (None, 111, 111, 32)      0         \n",
      " D)                                                              \n",
      "                                                                 \n",
      " conv2d_1 (Conv2D)           (None, 109, 109, 64)      18496     \n",
      "                                                                 \n",
      " max_pooling2d_1 (MaxPoolin  (None, 54, 54, 64)        0         \n",
      " g2D)                                                            \n",
      "                                                                 \n",
      " flatten (Flatten)           (None, 186624)            0         \n",
      "                                                                 \n",
      " dense (Dense)               (None, 128)               23888000  \n",
      "                                                                 \n",
      " dense_1 (Dense)             (None, 6)                 774       \n",
      "                                                                 \n",
      "=================================================================\n",
      "Total params: 23908166 (91.20 MB)\n",
      "Trainable params: 23908166 (91.20 MB)\n",
      "Non-trainable params: 0 (0.00 Byte)\n",
      "_________________________________________________________________\n"
     ]
    }
   ],
   "source": [
    "model = Sequential()\n",
    "\n",
    "# Add a Convolutional Layer with 32 filters, a kernel size of (3, 3), and input shape (224, 224, 3)\n",
    "model.add(Conv2D(32, (3, 3), input_shape=(224, 224, 3), activation='relu'))\n",
    "\n",
    "# Add a MaxPooling Layer with pool size (2, 2)\n",
    "model.add(MaxPooling2D(pool_size=(2, 2)))\n",
    "\n",
    "# Add another Convolutional Layer with 64 filters and a kernel size of (3, 3)\n",
    "model.add(Conv2D(64, (3, 3), activation='relu'))\n",
    "\n",
    "# Add another MaxPooling Layer\n",
    "model.add(MaxPooling2D(pool_size=(2, 2)))\n",
    "\n",
    "# Flatten the output to feed into a Dense layer\n",
    "model.add(Flatten())\n",
    "\n",
    "# Add a Dense layer with 128 neurons\n",
    "model.add(Dense(128, activation='relu'))\n",
    "\n",
    "# Add the output layer with 6 neurons (assuming 6 categories) and softmax activation\n",
    "model.add(Dense(6, activation='softmax'))\n",
    "\n",
    "# Compile the model\n",
    "model.compile(optimizer='adam', loss='categorical_crossentropy', metrics=['accuracy'])\n",
    "\n",
    "# Display the model summary\n",
    "model.summary()"
   ]
  },
  {
   "cell_type": "code",
   "execution_count": 14,
   "metadata": {},
   "outputs": [],
   "source": [
    "X_train, X_test, y_train, y_test = train_test_split(X, y_cat, test_size=0.2, random_state=42)\n",
    "\n",
    "# Normalize pixel values to be between 0 and 1\n",
    "X_train = X_train / 255.0\n",
    "X_test = X_test / 255.0"
   ]
  },
  {
   "cell_type": "code",
   "execution_count": 15,
   "metadata": {},
   "outputs": [
    {
     "name": "stderr",
     "output_type": "stream",
     "text": [
      "2023-12-14 18:09:57.957035: W tensorflow/tsl/framework/cpu_allocator_impl.cc:83] Allocation of 554545152 exceeds 10% of free system memory.\n"
     ]
    },
    {
     "name": "stdout",
     "output_type": "stream",
     "text": [
      "Epoch 1/10\n"
     ]
    },
    {
     "name": "stderr",
     "output_type": "stream",
     "text": [
      "2023-12-14 18:10:00.675891: W tensorflow/tsl/framework/cpu_allocator_impl.cc:83] Allocation of 95551488 exceeds 10% of free system memory.\n"
     ]
    },
    {
     "name": "stdout",
     "output_type": "stream",
     "text": [
      "29/29 [==============================] - 65s 2s/step - loss: 1.7939 - accuracy: 0.1596 - val_loss: 1.7924 - val_accuracy: 0.1126\n",
      "Epoch 2/10\n",
      "13/29 [============>.................] - ETA: 42s - loss: 1.7914 - accuracy: 0.1947"
     ]
    },
    {
     "ename": "",
     "evalue": "",
     "output_type": "error",
     "traceback": [
      "\u001b[1;31mThe Kernel crashed while executing code in the the current cell or a previous cell. Please review the code in the cell(s) to identify a possible cause of the failure. Click <a href='https://aka.ms/vscodeJupyterKernelCrash'>here</a> for more info. View Jupyter <a href='command:jupyter.viewOutput'>log</a> for further details."
     ]
    }
   ],
   "source": [
    "model.fit(X_train, y_train, epochs=10, batch_size=32, validation_data=(X_test, y_test))"
   ]
  }
 ],
 "metadata": {
  "kernelspec": {
   "display_name": "Python 3",
   "language": "python",
   "name": "python3"
  },
  "language_info": {
   "codemirror_mode": {
    "name": "ipython",
    "version": 3
   },
   "file_extension": ".py",
   "mimetype": "text/x-python",
   "name": "python",
   "nbconvert_exporter": "python",
   "pygments_lexer": "ipython3",
   "version": "3.10.12"
  }
 },
 "nbformat": 4,
 "nbformat_minor": 2
}
