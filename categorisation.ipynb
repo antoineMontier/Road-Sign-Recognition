{
 "cells": [
  {
   "cell_type": "markdown",
   "metadata": {},
   "source": [
    "**This Notebook aims to categorize (A-F cat.) the pannel based on its features using a convolutionnal neural network**<br>\n",
    "The model can then be used conviniently without having to re-fit it"
   ]
  },
  {
   "cell_type": "code",
   "execution_count": 37,
   "metadata": {},
   "outputs": [],
   "source": [
    "from skimage import measure\n",
    "import numpy as np\n",
    "import matplotlib.pyplot as plt\n",
    "import matplotlib.image as mpimg\n",
    "import matplotlib\n",
    "from mpl_toolkits.mplot3d import Axes3D\n",
    "import sklearn\n",
    "import os\n",
    "import sklearn.cluster\n",
    "import itertools\n",
    "import statistics\n",
    "import cv2\n",
    "import scipy\n",
    "from scipy import signal"
   ]
  },
  {
   "cell_type": "code",
   "execution_count": 38,
   "metadata": {},
   "outputs": [],
   "source": [
    "def make_labels(directory, data=[], y_hat=[], label=0):\n",
    "    for root, dirs, files in os.walk(directory):\n",
    "        for file in files:\n",
    "            img = matplotlib.image.imread(directory+file)\n",
    "            img = cv2.cvtColor(img, cv2.COLOR_RGB2GRAY)\n",
    "            img = np.reshape(img, (224, 224, 1))\n",
    "            img = cv2.cvtColor(img, cv2.COLOR_GRAY2RGB)  # Convert to RGB\n",
    "            img = cv2.resize(img, (224, 224))\n",
    "\n",
    "            data.append(img)\n",
    "        y_hat = [label] * len(data)\n",
    "    return np.array(data), np.array(y_hat)"
   ]
  },
  {
   "cell_type": "code",
   "execution_count": 39,
   "metadata": {},
   "outputs": [
    {
     "name": "stdout",
     "output_type": "stream",
     "text": [
      "a loaded\n",
      "b loaded\n",
      "c loaded\n",
      "d loaded\n",
      "e loaded\n",
      "f loaded\n"
     ]
    }
   ],
   "source": [
    "parent_folder = 'Training/augmentation1/'\n",
    "\n",
    "a, y_a = [], []\n",
    "a, y_a = make_labels(parent_folder + '/A/', data=a, y_hat=y_a, label=0)\n",
    "print(\"a loaded\")\n",
    "\n",
    "b, y_b = [], []\n",
    "b, y_b = make_labels(parent_folder + '/B/', data=b, y_hat=y_b, label=1)\n",
    "print(\"b loaded\")\n",
    "\n",
    "c, y_c = [], []\n",
    "c, y_c = make_labels(parent_folder + '/C/', data=c, y_hat=y_c, label=2)\n",
    "print(\"c loaded\")\n",
    "\n",
    "d, y_d = [], []\n",
    "d, y_d = make_labels(parent_folder + '/D/', data=d, y_hat=y_d, label=3)\n",
    "print(\"d loaded\")\n",
    "\n",
    "e, y_e = [], []\n",
    "e, y_e = make_labels(parent_folder + '/E/', data=e, y_hat=y_e, label=4)\n",
    "print(\"e loaded\")\n",
    "\n",
    "f, y_f = [], []\n",
    "f, y_f = make_labels(parent_folder + '/F/', data=f, y_hat=y_f, label=5)\n",
    "print(\"f loaded\")"
   ]
  },
  {
   "cell_type": "code",
   "execution_count": 40,
   "metadata": {},
   "outputs": [
    {
     "name": "stdout",
     "output_type": "stream",
     "text": [
      "a: (54, 224, 224, 3)\n",
      "b: (183, 224, 224, 3)\n",
      "c: (248, 224, 224, 3)\n",
      "d: (186, 224, 224, 3)\n",
      "e: (340, 224, 224, 3)\n",
      "f: (155, 224, 224, 3)\n"
     ]
    }
   ],
   "source": [
    "print('a:', a.shape)\n",
    "print('b:', b.shape)\n",
    "print('c:', c.shape)\n",
    "print('d:', d.shape)\n",
    "print('e:', e.shape)\n",
    "print('f:', f.shape)"
   ]
  }
 ],
 "metadata": {
  "kernelspec": {
   "display_name": "Python 3",
   "language": "python",
   "name": "python3"
  },
  "language_info": {
   "codemirror_mode": {
    "name": "ipython",
    "version": 3
   },
   "file_extension": ".py",
   "mimetype": "text/x-python",
   "name": "python",
   "nbconvert_exporter": "python",
   "pygments_lexer": "ipython3",
   "version": "3.10.12"
  }
 },
 "nbformat": 4,
 "nbformat_minor": 2
}
