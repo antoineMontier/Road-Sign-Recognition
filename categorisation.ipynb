{
 "cells": [
  {
   "cell_type": "markdown",
   "metadata": {},
   "source": [
    "**This Notebook aims to categorize (A-F cat.) the pannel based on its features using a convolutionnal neural network**<br>\n",
    "The model can then be used conviniently without having to re-fit it"
   ]
  },
  {
   "cell_type": "code",
   "execution_count": 42,
   "metadata": {},
   "outputs": [],
   "source": [
    "from skimage import measure\n",
    "import numpy as np\n",
    "import matplotlib.pyplot as plt\n",
    "import matplotlib.image as mpimg\n",
    "import matplotlib\n",
    "from mpl_toolkits.mplot3d import Axes3D\n",
    "import sklearn\n",
    "from keras.utils import to_categorical\n",
    "import os\n",
    "import sklearn.cluster\n",
    "import itertools\n",
    "import statistics\n",
    "import cv2\n",
    "import scipy\n",
    "from scipy import signal"
   ]
  },
  {
   "cell_type": "code",
   "execution_count": 43,
   "metadata": {},
   "outputs": [],
   "source": [
    "def make_labels(directory, data=[], y_hat=[], label=0):\n",
    "    for root, dirs, files in os.walk(directory):\n",
    "        for file in files:\n",
    "            img = matplotlib.image.imread(directory+file)\n",
    "            img = cv2.cvtColor(img, cv2.COLOR_RGB2GRAY)\n",
    "            img = np.reshape(img, (224, 224, 1))\n",
    "            img = cv2.cvtColor(img, cv2.COLOR_GRAY2RGB)  # Convert to RGB\n",
    "            img = cv2.resize(img, (224, 224))\n",
    "\n",
    "            data.append(img)\n",
    "        y_hat = [label] * len(data)\n",
    "    return np.array(data), np.array(y_hat)"
   ]
  },
  {
   "cell_type": "code",
   "execution_count": 44,
   "metadata": {},
   "outputs": [
    {
     "name": "stdout",
     "output_type": "stream",
     "text": [
      "a loaded\n",
      "b loaded\n",
      "c loaded\n",
      "d loaded\n",
      "e loaded\n",
      "f loaded\n"
     ]
    }
   ],
   "source": [
    "parent_folder = 'Training/augmentation1/'\n",
    "\n",
    "a, y_a = [], []\n",
    "a, y_a = make_labels(parent_folder + '/A/', data=a, y_hat=y_a, label=0)\n",
    "print(\"a loaded\")\n",
    "\n",
    "b, y_b = [], []\n",
    "b, y_b = make_labels(parent_folder + '/B/', data=b, y_hat=y_b, label=1)\n",
    "print(\"b loaded\")\n",
    "\n",
    "c, y_c = [], []\n",
    "c, y_c = make_labels(parent_folder + '/C/', data=c, y_hat=y_c, label=2)\n",
    "print(\"c loaded\")\n",
    "\n",
    "d, y_d = [], []\n",
    "d, y_d = make_labels(parent_folder + '/D/', data=d, y_hat=y_d, label=3)\n",
    "print(\"d loaded\")\n",
    "\n",
    "e, y_e = [], []\n",
    "e, y_e = make_labels(parent_folder + '/E/', data=e, y_hat=y_e, label=4)\n",
    "print(\"e loaded\")\n",
    "\n",
    "f, y_f = [], []\n",
    "f, y_f = make_labels(parent_folder + '/F/', data=f, y_hat=y_f, label=5)\n",
    "print(\"f loaded\")"
   ]
  },
  {
   "cell_type": "code",
   "execution_count": 45,
   "metadata": {},
   "outputs": [
    {
     "name": "stdout",
     "output_type": "stream",
     "text": [
      "a: (54, 224, 224, 3)\n",
      "b: (183, 224, 224, 3)\n",
      "c: (248, 224, 224, 3)\n",
      "d: (186, 224, 224, 3)\n",
      "e: (340, 224, 224, 3)\n",
      "f: (155, 224, 224, 3)\n"
     ]
    }
   ],
   "source": [
    "print('a:', a.shape)\n",
    "print('b:', b.shape)\n",
    "print('c:', c.shape)\n",
    "print('d:', d.shape)\n",
    "print('e:', e.shape)\n",
    "print('f:', f.shape)"
   ]
  },
  {
   "cell_type": "markdown",
   "metadata": {},
   "source": [
    "**Data normalization**"
   ]
  },
  {
   "cell_type": "code",
   "execution_count": 46,
   "metadata": {},
   "outputs": [
    {
     "ename": "ValueError",
     "evalue": "all the input array dimensions for the concatenation axis must match exactly, but along dimension 0, the array at index 0 has size 54 and the array at index 1 has size 183",
     "output_type": "error",
     "traceback": [
      "\u001b[0;31m---------------------------------------------------------------------------\u001b[0m",
      "\u001b[0;31mValueError\u001b[0m                                Traceback (most recent call last)",
      "Cell \u001b[0;32mIn[46], line 2\u001b[0m\n\u001b[1;32m      1\u001b[0m X \u001b[38;5;241m=\u001b[39m np\u001b[38;5;241m.\u001b[39mvstack((a, b, c, d, e, f))\n\u001b[0;32m----> 2\u001b[0m y \u001b[38;5;241m=\u001b[39m \u001b[43mnp\u001b[49m\u001b[38;5;241;43m.\u001b[39;49m\u001b[43mhstack\u001b[49m\u001b[43m(\u001b[49m\u001b[43m(\u001b[49m\u001b[43ma\u001b[49m\u001b[43m,\u001b[49m\u001b[43m \u001b[49m\u001b[43mb\u001b[49m\u001b[43m,\u001b[49m\u001b[43m \u001b[49m\u001b[43mc\u001b[49m\u001b[43m,\u001b[49m\u001b[43m \u001b[49m\u001b[43md\u001b[49m\u001b[43m,\u001b[49m\u001b[43m \u001b[49m\u001b[43me\u001b[49m\u001b[43m,\u001b[49m\u001b[43m \u001b[49m\u001b[43mf\u001b[49m\u001b[43m)\u001b[49m\u001b[43m)\u001b[49m\u001b[38;5;241m.\u001b[39mreshape(\u001b[38;5;241m-\u001b[39m\u001b[38;5;241m1\u001b[39m, \u001b[38;5;241m1\u001b[39m)\n\u001b[1;32m      3\u001b[0m y_cat \u001b[38;5;241m=\u001b[39m to_categorical(y)\n",
      "File \u001b[0;32m<__array_function__ internals>:180\u001b[0m, in \u001b[0;36mhstack\u001b[0;34m(*args, **kwargs)\u001b[0m\n",
      "File \u001b[0;32m~/.local/lib/python3.10/site-packages/numpy/core/shape_base.py:345\u001b[0m, in \u001b[0;36mhstack\u001b[0;34m(tup)\u001b[0m\n\u001b[1;32m    343\u001b[0m     \u001b[38;5;28;01mreturn\u001b[39;00m _nx\u001b[38;5;241m.\u001b[39mconcatenate(arrs, \u001b[38;5;241m0\u001b[39m)\n\u001b[1;32m    344\u001b[0m \u001b[38;5;28;01melse\u001b[39;00m:\n\u001b[0;32m--> 345\u001b[0m     \u001b[38;5;28;01mreturn\u001b[39;00m \u001b[43m_nx\u001b[49m\u001b[38;5;241;43m.\u001b[39;49m\u001b[43mconcatenate\u001b[49m\u001b[43m(\u001b[49m\u001b[43marrs\u001b[49m\u001b[43m,\u001b[49m\u001b[43m \u001b[49m\u001b[38;5;241;43m1\u001b[39;49m\u001b[43m)\u001b[49m\n",
      "File \u001b[0;32m<__array_function__ internals>:180\u001b[0m, in \u001b[0;36mconcatenate\u001b[0;34m(*args, **kwargs)\u001b[0m\n",
      "\u001b[0;31mValueError\u001b[0m: all the input array dimensions for the concatenation axis must match exactly, but along dimension 0, the array at index 0 has size 54 and the array at index 1 has size 183"
     ]
    }
   ],
   "source": [
    "# TODO: A, B, C, D, E & F datasets must have the same size\n",
    "\n",
    "X = np.vstack((a, b, c, d, e, f))\n",
    "y = np.hstack((a, b, c, d, e, f)).reshape(-1, 1)\n",
    "y_cat = to_categorical(y)"
   ]
  },
  {
   "cell_type": "code",
   "execution_count": null,
   "metadata": {},
   "outputs": [],
   "source": [
    "a = b = c = d = e = f = None"
   ]
  }
 ],
 "metadata": {
  "kernelspec": {
   "display_name": "Python 3",
   "language": "python",
   "name": "python3"
  },
  "language_info": {
   "codemirror_mode": {
    "name": "ipython",
    "version": 3
   },
   "file_extension": ".py",
   "mimetype": "text/x-python",
   "name": "python",
   "nbconvert_exporter": "python",
   "pygments_lexer": "ipython3",
   "version": "3.10.12"
  }
 },
 "nbformat": 4,
 "nbformat_minor": 2
}
